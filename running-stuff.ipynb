{
 "cells": [
  {
   "cell_type": "markdown",
   "id": "ebb8efc2",
   "metadata": {},
   "source": [
    "# Running Executables on HPC\n",
    "\n",
    "Ok, we've gotten comfortable navigating around the HPC filesystem. Now how do we run executables on files?\n",
    "\n",
    "\n",
    "\n",
    "## Your toolchain\n",
    "\n",
    "\n",
    "\n",
    "## Environment Modules\n",
    "\n",
    "Before you install your own versions of software, it's important to realize that this problem may be solved for you.\n",
    "\n",
    "Your first stop should be looking for environment modules on the HPC. \n",
    "\n",
    ":::{.callout}\n",
    "## For FH Users\n",
    "\n",
    "\n",
    ":::\n",
    "\n",
    "### Tip: Always Use Versioning\n",
    "\n",
    "\n",
    "### Tip: `module purge` when you're done\n",
    "\n",
    "\n",
    "### Full Script Example\n",
    "\n",
    "\n",
    "```{bash}\n",
    "#| eval: false\n",
    "#| filename: example_script.sh\n",
    "#!/bin/bash\n",
    "module load SAMtools/1.19.2-GCC-13.2.0\n",
    "samtools view -c $1 > $1.counts.txt\n",
    "module purge\n",
    "```\n",
    "\n",
    "\n",
    "\n",
    "## Docker Containers\n"
   ]
  }
 ],
 "metadata": {
  "kernelspec": {
   "display_name": "Python 3 (ipykernel)",
   "language": "python",
   "name": "python3"
  },
  "language_info": {
   "codemirror_mode": {
    "name": "ipython",
    "version": 3
   },
   "file_extension": ".py",
   "mimetype": "text/x-python",
   "name": "python",
   "nbconvert_exporter": "python",
   "pygments_lexer": "ipython3",
   "version": "3.10.12"
  }
 },
 "nbformat": 4,
 "nbformat_minor": 5
}
